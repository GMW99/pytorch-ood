{
 "cells": [
  {
   "cell_type": "code",
   "execution_count": 5,
   "metadata": {
    "collapsed": true
   },
   "outputs": [],
   "source": [
    "import torch\n",
    "import torchvision.transforms as tvt\n",
    "from torch.optim import Adam\n",
    "\n",
    "from torch.utils.data import DataLoader, Subset\n",
    "from torchvision.datasets import CIFAR10\n",
    "from tqdm.notebook import tqdm\n",
    "from torchmetrics import Accuracy, AUROC\n",
    "from torch.optim.lr_scheduler import CosineAnnealingLR\n",
    "\n",
    "from oodtk.utils import is_known, is_unknown, contains_known, contains_unknown\n",
    "from oodtk.loss import ObjectosphereLoss\n",
    "from oodtk.dataset.img import Textures, CIFAR10C, CIFAR10P, LSUNCrop, LSUNResize, TinyImageNetResize, TinyImageNetCrop\n",
    "from oodtk.dataset.img import TinyImages300k\n",
    "from oodtk.model import WideResNet\n",
    "from oodtk.transforms import ToRGB, ToUnknown"
   ]
  },
  {
   "cell_type": "code",
   "execution_count": 6,
   "outputs": [
    {
     "name": "stdout",
     "output_type": "stream",
     "text": [
      "Files already downloaded and verified\n"
     ]
    }
   ],
   "source": [
    "torch.manual_seed(123)\n",
    "\n",
    "mean = [x / 255 for x in [125.3, 123.0, 113.9]]\n",
    "std = [x / 255 for x in [63.0, 62.1, 66.7]]\n",
    "\n",
    "trans = tvt.Compose([ToRGB(), tvt.Resize((32,32)), tvt.ToTensor(), tvt.Normalize(mean, std)])\n",
    "\n",
    "# setup data\n",
    "dataset_in_train = CIFAR10(root=\"data\", train=True, download=True, transform=trans)\n",
    "# dataset_in_test = CIFAR10(root=\"data\", train=False, transform=trans)\n",
    "dataset_out_train = Subset(\n",
    "    TinyImages300k(root=\"/home/ki/datasets/\", transform=trans, target_transform=ToUnknown(), download=True), indices=range(120000))\n",
    "\n",
    "train_loader = DataLoader(dataset_in_train + dataset_out_train, batch_size=128, shuffle=True)\n"
   ],
   "metadata": {
    "collapsed": false,
    "pycharm": {
     "name": "#%%\n"
    }
   }
  },
  {
   "cell_type": "code",
   "execution_count": 7,
   "outputs": [],
   "source": [
    "model = WideResNet.from_pretrained(\"cifar10-pt\", num_classes=10)\n",
    "opti = Adam(params=model.parameters(), lr=0.001)\n",
    "crit = ObjectosphereLoss()\n",
    "scheduler = CosineAnnealingLR(opti, T_max=len(train_loader) * 10)\n",
    "model = model.cuda()"
   ],
   "metadata": {
    "collapsed": false,
    "pycharm": {
     "name": "#%%\n"
    }
   }
  },
  {
   "cell_type": "code",
   "execution_count": 8,
   "outputs": [
    {
     "name": "stderr",
     "output_type": "stream",
     "text": [
      "/home/ki/projects/oodtk/venv/lib/python3.9/site-packages/torchmetrics/utilities/prints.py:36: UserWarning: Metric `AUROC` will save all targets and predictions in buffer. For large datasets this may lead to large memory footprint.\n",
      "  warnings.warn(*args, **kwargs)\n"
     ]
    },
    {
     "data": {
      "text/plain": "  0%|          | 0/1329 [00:00<?, ?it/s]",
      "application/vnd.jupyter.widget-view+json": {
       "version_major": 2,
       "version_minor": 0,
       "model_id": "1eac80f51047489aa0bee6b74b4a6ec7"
      }
     },
     "metadata": {},
     "output_type": "display_data"
    },
    {
     "data": {
      "text/plain": "  0%|          | 0/1329 [00:00<?, ?it/s]",
      "application/vnd.jupyter.widget-view+json": {
       "version_major": 2,
       "version_minor": 0,
       "model_id": "9ddc014abf0b45a4a428e6eb29776e68"
      }
     },
     "metadata": {},
     "output_type": "display_data"
    },
    {
     "data": {
      "text/plain": "  0%|          | 0/1329 [00:00<?, ?it/s]",
      "application/vnd.jupyter.widget-view+json": {
       "version_major": 2,
       "version_minor": 0,
       "model_id": "35d5aa71c9bb41d69c238d4d7d31aadb"
      }
     },
     "metadata": {},
     "output_type": "display_data"
    },
    {
     "data": {
      "text/plain": "  0%|          | 0/1329 [00:00<?, ?it/s]",
      "application/vnd.jupyter.widget-view+json": {
       "version_major": 2,
       "version_minor": 0,
       "model_id": "d2df867f492a4858b4ad534f9a08e426"
      }
     },
     "metadata": {},
     "output_type": "display_data"
    },
    {
     "data": {
      "text/plain": "  0%|          | 0/1329 [00:00<?, ?it/s]",
      "application/vnd.jupyter.widget-view+json": {
       "version_major": 2,
       "version_minor": 0,
       "model_id": "557df4e257d0478da4a5f165b05e9db6"
      }
     },
     "metadata": {},
     "output_type": "display_data"
    },
    {
     "data": {
      "text/plain": "  0%|          | 0/1329 [00:00<?, ?it/s]",
      "application/vnd.jupyter.widget-view+json": {
       "version_major": 2,
       "version_minor": 0,
       "model_id": "9412bef4af4d477e96ad3dc647a8a1e9"
      }
     },
     "metadata": {},
     "output_type": "display_data"
    },
    {
     "data": {
      "text/plain": "  0%|          | 0/1329 [00:00<?, ?it/s]",
      "application/vnd.jupyter.widget-view+json": {
       "version_major": 2,
       "version_minor": 0,
       "model_id": "8aed3fdbea37469598aafd95ee0ffe87"
      }
     },
     "metadata": {},
     "output_type": "display_data"
    },
    {
     "data": {
      "text/plain": "  0%|          | 0/1329 [00:00<?, ?it/s]",
      "application/vnd.jupyter.widget-view+json": {
       "version_major": 2,
       "version_minor": 0,
       "model_id": "0f5d59dd0c7442ec9b3de7b6508b19ec"
      }
     },
     "metadata": {},
     "output_type": "display_data"
    },
    {
     "data": {
      "text/plain": "  0%|          | 0/1329 [00:00<?, ?it/s]",
      "application/vnd.jupyter.widget-view+json": {
       "version_major": 2,
       "version_minor": 0,
       "model_id": "159edcb52c5e48f1b027d5097f9c7913"
      }
     },
     "metadata": {},
     "output_type": "display_data"
    },
    {
     "data": {
      "text/plain": "  0%|          | 0/1329 [00:00<?, ?it/s]",
      "application/vnd.jupyter.widget-view+json": {
       "version_major": 2,
       "version_minor": 0,
       "model_id": "40db92bf409d4965bab9fbe41ed432cc"
      }
     },
     "metadata": {},
     "output_type": "display_data"
    }
   ],
   "source": [
    "\n",
    "acc = Accuracy(num_classes=10).cuda()\n",
    "auroc = AUROC(num_classes=2).cuda()\n",
    "\n",
    "for epoch in range(10):\n",
    "    bar = tqdm(train_loader)\n",
    "    for batch in bar:\n",
    "        x, y = batch\n",
    "        x, y = x.cuda(), y.cuda()\n",
    "        z = model(x)\n",
    "\n",
    "        loss = crit(z, y)\n",
    "        opti.zero_grad()\n",
    "        loss.backward()\n",
    "        opti.step()\n",
    "        scheduler.step()\n",
    "\n",
    "        acc.update(z[is_known(y)],y[is_known(y)])\n",
    "        auroc.update(ObjectosphereLoss.score(z),is_unknown(y))\n",
    "        bar.set_postfix({\"loss\": loss.item(), \"acc\": acc.compute().item(), \"auroc\": auroc.compute().item()})\n",
    "\n",
    "    acc.reset()\n",
    "    auroc.reset()"
   ],
   "metadata": {
    "collapsed": false,
    "pycharm": {
     "name": "#%%\n"
    }
   }
  },
  {
   "cell_type": "code",
   "execution_count": 18,
   "outputs": [
    {
     "data": {
      "text/plain": "  0%|          | 0/435 [00:00<?, ?it/s]",
      "application/vnd.jupyter.widget-view+json": {
       "version_major": 2,
       "version_minor": 0,
       "model_id": "e136b177533545e59e1e0c75208a03eb"
      }
     },
     "metadata": {},
     "output_type": "display_data"
    },
    {
     "name": "stdout",
     "output_type": "stream",
     "text": [
      "tensor(0.8674, device='cuda:0')\n",
      "tensor(0.9585, device='cuda:0')\n"
     ]
    }
   ],
   "source": [
    "dataset_in_test = CIFAR10(root=\"data\", train=False, transform=trans)\n",
    "dataset_out_test1 = Textures(root=\"data\", download=True, transform=trans)\n",
    "dataset_out_test2 = LSUNCrop(root=\"data\", download=True, transform=trans)\n",
    "dataset_out_test3 = LSUNResize(root=\"data\", download=True, transform=trans)\n",
    "dataset_out_test4 = TinyImageNetResize(root=\"data\", download=True, transform=trans)\n",
    "dataset_out_test5 = TinyImageNetCrop(root=\"data\", download=True, transform=trans)\n",
    "dataset_test = dataset_in_test + dataset_out_test1 + dataset_out_test2 + dataset_out_test3 + dataset_out_test4 + dataset_out_test5\n",
    "test_loader = DataLoader(dataset_test, batch_size=128, shuffle=True)\n",
    "\n",
    "acc = Accuracy(num_classes=10).cuda()\n",
    "auroc = AUROC(num_classes=2).cuda()\n",
    "\n",
    "with torch.no_grad():\n",
    "    for batch in tqdm(test_loader):\n",
    "        x, y = batch\n",
    "        x, y = x.cuda(), y.cuda()\n",
    "        z = model(x)\n",
    "        acc.update(z[is_known(y)],y[is_known(y)])\n",
    "        auroc.update(ObjectosphereLoss.score(z),is_unknown(y))\n",
    "\n",
    "print(acc.compute())\n",
    "print(auroc.compute())"
   ],
   "metadata": {
    "collapsed": false,
    "pycharm": {
     "name": "#%%\n"
    }
   }
  },
  {
   "cell_type": "code",
   "execution_count": null,
   "outputs": [],
   "source": [
    "from oodtk.dataset.img import Textures, CIFAR10C, CIFAR10P, LSUNCrop, LSUNResize, TinyImageNetResize, TinyImageNetCrop\n",
    "CIFAR10P(root=\"data/\", subset=\"brightness\", download=True)\n"
   ],
   "metadata": {
    "collapsed": false,
    "pycharm": {
     "name": "#%%\n"
    }
   }
  },
  {
   "cell_type": "code",
   "execution_count": null,
   "outputs": [],
   "source": [],
   "metadata": {
    "collapsed": false,
    "pycharm": {
     "name": "#%%\n"
    }
   }
  }
 ],
 "metadata": {
  "kernelspec": {
   "display_name": "Python 3",
   "language": "python",
   "name": "python3"
  },
  "language_info": {
   "codemirror_mode": {
    "name": "ipython",
    "version": 2
   },
   "file_extension": ".py",
   "mimetype": "text/x-python",
   "name": "python",
   "nbconvert_exporter": "python",
   "pygments_lexer": "ipython2",
   "version": "2.7.6"
  }
 },
 "nbformat": 4,
 "nbformat_minor": 0
}
