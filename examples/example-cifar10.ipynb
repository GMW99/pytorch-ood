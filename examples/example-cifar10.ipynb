{
 "cells": [
  {
   "cell_type": "code",
   "execution_count": 5,
   "metadata": {
    "collapsed": true
   },
   "outputs": [],
   "source": [
    "import torch\n",
    "import torchvision.transforms as tvt\n",
    "from torch.utils.data import ConcatDataset, DataLoader\n",
    "from torchmetrics import AUROC  # additional dependency\n",
    "from torchvision.datasets import CIFAR10\n",
    "from tqdm.notebook import tqdm\n",
    "\n",
    "from oodtk import NegativeEnergy, Softmax, ODIN, MCD, Mahalanobis\n",
    "from oodtk.dataset.img import Textures, CIFAR10C, LSUNCrop, LSUNResize, TinyImageNetResize, TinyImageNetCrop\n",
    "from oodtk.model import WideResNet\n",
    "from oodtk.utils import is_unknown\n",
    "from oodtk.metrics import OODMetrics\n",
    "from oodtk.transforms import ToRGB\n"
   ]
  },
  {
   "cell_type": "code",
   "execution_count": 2,
   "outputs": [
    {
     "name": "stdout",
     "output_type": "stream",
     "text": [
      "Files already downloaded and verified\n"
     ]
    },
    {
     "name": "stderr",
     "output_type": "stream",
     "text": [
      "/home/ki/.local/share/anaconda3/envs/myenv/lib/python3.9/site-packages/torch/utils/data/dataloader.py:478: UserWarning: This DataLoader will create 20 worker processes in total. Our suggested max number of worker in current system is 12, which is smaller than what this DataLoader is going to create. Please be aware that excessive worker creation might get DataLoader running slow or even freeze, lower the worker number to avoid potential slowness/freeze if necessary.\n",
      "  warnings.warn(_create_warning_msg(\n"
     ]
    }
   ],
   "source": [
    "torch.manual_seed(123)\n",
    "\n",
    "mean = [x / 255 for x in [125.3, 123.0, 113.9]]\n",
    "std = [x / 255 for x in [63.0, 62.1, 66.7]]\n",
    "\n",
    "trans = tvt.Compose([ToRGB(), tvt.Resize((32,32)), tvt.ToTensor(), tvt.Normalize(mean, std)])\n",
    "\n",
    "# setup data\n",
    "dataset_train = CIFAR10(root=\"data\", train=True, download=True, transform=trans)\n",
    "dataset_in_test = CIFAR10(root=\"data\", train=False, transform=trans)\n",
    "dataset_out_test1 = Textures(root=\"data\", download=True, transform=trans)\n",
    "dataset_out_test2 = LSUNCrop(root=\"data\", download=True, transform=trans)\n",
    "dataset_out_test3 = LSUNResize(root=\"data\", download=True, transform=trans)\n",
    "dataset_out_test4 = TinyImageNetResize(root=\"data\", download=True, transform=trans)\n",
    "dataset_out_test5 = TinyImageNetCrop(root=\"data\", download=True, transform=trans)\n",
    "dataset_test = dataset_in_test + dataset_out_test1 + dataset_out_test2 + dataset_out_test3 + dataset_out_test4 + dataset_out_test5\n",
    "train_loader = DataLoader(dataset_train, batch_size=128, num_workers=20)\n",
    "test_loader = DataLoader(dataset_test, batch_size=128, num_workers=20)"
   ],
   "metadata": {
    "collapsed": false,
    "pycharm": {
     "name": "#%%\n"
    }
   }
  },
  {
   "cell_type": "code",
   "execution_count": null,
   "outputs": [],
   "source": [
    "model = WideResNet.from_pretrained(\"oe-cifar10-tune\", num_classes=10).eval().cuda()\n",
    "method = Softmax(model).cuda()\n",
    "metrics = OODMetrics()\n",
    "\n",
    "with torch.no_grad():\n",
    "    for n, batch in enumerate(test_loader):\n",
    "        x, y = batch\n",
    "        x = x.cuda()\n",
    "        y = y.cuda()\n",
    "\n",
    "        metrics.update(method.predict(x), y)\n",
    "\n",
    "print(metrics.compute())\n",
    "metrics.reset()"
   ],
   "metadata": {
    "collapsed": false,
    "pycharm": {
     "name": "#%%\n"
    }
   }
  },
  {
   "cell_type": "code",
   "execution_count": null,
   "outputs": [],
   "source": [
    "model = WideResNet.from_pretrained(\"er-cifar10-tune\", num_classes=10).eval().cuda()\n",
    "energy = NegativeEnergy(model)\n",
    "metrics = OODMetrics()\n",
    "\n",
    "with torch.no_grad():\n",
    "    for batch in tqdm(test_loader):\n",
    "        x, y = batch\n",
    "        x = x.cuda()\n",
    "        y = y.cuda()\n",
    "        metrics.update(energy.predict(x), y)\n",
    "\n",
    "print(metrics.compute())\n",
    "metrics.reset()"
   ],
   "metadata": {
    "collapsed": false,
    "pycharm": {
     "name": "#%%\n"
    }
   }
  },
  {
   "cell_type": "code",
   "execution_count": null,
   "outputs": [],
   "source": [
    "model = WideResNet.from_pretrained(\"cifar10-pt\", num_classes=10).eval().cuda()\n",
    "method = Softmax(model)\n",
    "metrics = OODMetrics()\n",
    "\n",
    "with torch.no_grad():\n",
    "    for batch in tqdm(test_loader):\n",
    "        x, y = batch\n",
    "        x = x.cuda()\n",
    "        y = y.cuda()\n",
    "\n",
    "        metrics.update(method.predict(x), y)\n",
    "\n",
    "print(metrics.compute())\n",
    "metrics.reset()"
   ],
   "metadata": {
    "collapsed": false,
    "pycharm": {
     "name": "#%%\n"
    }
   }
  },
  {
   "cell_type": "code",
   "execution_count": null,
   "outputs": [],
   "source": [
    "model = WideResNet.from_pretrained(\"cifar10-pt\", num_classes=10).eval().cuda()\n",
    "method = NegativeEnergy(model)\n",
    "metrics = OODMetrics()\n",
    "\n",
    "with torch.no_grad():\n",
    "    for batch in tqdm(test_loader):\n",
    "        x, y = batch\n",
    "        x = x.cuda()\n",
    "        y = y.cuda()\n",
    "\n",
    "        metrics.update(method.predict(x), y)\n",
    "\n",
    "print(metrics.compute())\n",
    "metrics.reset()"
   ],
   "metadata": {
    "collapsed": false,
    "pycharm": {
     "name": "#%%\n"
    }
   }
  },
  {
   "cell_type": "code",
   "execution_count": null,
   "outputs": [],
   "source": [
    "model = WideResNet.from_pretrained(\"cifar10-pt\", num_classes=10).eval().cuda()\n",
    "method = ODIN(model, eps=0.002, norm_std=std)\n",
    "metrics = OODMetrics()\n",
    "\n",
    "with torch.no_grad():\n",
    "    for batch in tqdm(test_loader):\n",
    "        x, y = batch\n",
    "        x = x.cuda()\n",
    "        y = y.cuda()\n",
    "\n",
    "        metrics.update(method.predict(x), y)\n",
    "\n",
    "print(metrics.compute())\n",
    "metrics.reset()"
   ],
   "metadata": {
    "collapsed": false,
    "pycharm": {
     "name": "#%%\n"
    }
   }
  },
  {
   "cell_type": "code",
   "execution_count": null,
   "outputs": [],
   "source": [
    "model = WideResNet.from_pretrained(\"cifar10-pt\", num_classes=10).eval().cuda()\n",
    "method = MCD(model)\n",
    "metrics = OODMetrics()\n",
    "\n",
    "with torch.no_grad():\n",
    "    for batch in tqdm(test_loader):\n",
    "        x, y = batch\n",
    "        x = x.cuda()\n",
    "        y = y.cuda()\n",
    "\n",
    "        metrics.update(method.predict(x), y)\n",
    "\n",
    "print(metrics.compute())\n",
    "metrics.reset()"
   ],
   "metadata": {
    "collapsed": false,
    "pycharm": {
     "name": "#%%\n"
    }
   }
  },
  {
   "cell_type": "code",
   "execution_count": 3,
   "outputs": [
    {
     "name": "stderr",
     "output_type": "stream",
     "text": [
      "/home/ki/.local/lib/python3.9/site-packages/torchmetrics/utilities/prints.py:36: UserWarning: Metric `AUROC` will save all targets and predictions in buffer. For large datasets this may lead to large memory footprint.\n",
      "  warnings.warn(*args, **kwargs)\n",
      "/home/ki/.local/lib/python3.9/site-packages/torchmetrics/utilities/prints.py:36: UserWarning: Metric `PrecisionRecallCurve` will save all targets and predictions in buffer. For large datasets this may lead to large memory footprint.\n",
      "  warnings.warn(*args, **kwargs)\n"
     ]
    },
    {
     "data": {
      "text/plain": "  0%|          | 0/435 [00:00<?, ?it/s]",
      "application/vnd.jupyter.widget-view+json": {
       "version_major": 2,
       "version_minor": 0,
       "model_id": "a5f0828488f94c90af832396735684cc"
      }
     },
     "metadata": {},
     "output_type": "display_data"
    },
    {
     "name": "stderr",
     "output_type": "stream",
     "text": [
      "/home/ki/.local/share/anaconda3/envs/myenv/lib/python3.9/site-packages/torch/utils/data/dataloader.py:478: UserWarning: This DataLoader will create 20 worker processes in total. Our suggested max number of worker in current system is 12, which is smaller than what this DataLoader is going to create. Please be aware that excessive worker creation might get DataLoader running slow or even freeze, lower the worker number to avoid potential slowness/freeze if necessary.\n",
      "  warnings.warn(_create_warning_msg(\n"
     ]
    },
    {
     "name": "stdout",
     "output_type": "stream",
     "text": [
      "{'AUROC': 0.7504278421401978, 'AUPR-IN': 0.8881632089614868, 'AUPR-OUT': 0.5372937321662903, 'ACC95TPR': 0.8582494854927063, 'FPR95TPR': 0.5605000257492065}\n"
     ]
    }
   ],
   "source": [
    "model = WideResNet.from_pretrained(\"oe-cifar10-tune\", num_classes=10).eval().cuda()\n",
    "method = MCD(model)\n",
    "metrics = OODMetrics()\n",
    "\n",
    "with torch.no_grad():\n",
    "    for batch in tqdm(test_loader):\n",
    "        x, y = batch\n",
    "        x = x.cuda()\n",
    "        y = y.cuda()\n",
    "\n",
    "        metrics.update(method.predict(x), y)\n",
    "\n",
    "print(metrics.compute())\n",
    "metrics.reset()"
   ],
   "metadata": {
    "collapsed": false,
    "pycharm": {
     "name": "#%%\n"
    }
   }
  },
  {
   "cell_type": "code",
   "execution_count": 4,
   "outputs": [
    {
     "name": "stderr",
     "output_type": "stream",
     "text": [
      "/home/ki/.local/lib/python3.9/site-packages/torchmetrics/utilities/prints.py:36: UserWarning: Metric `AUROC` will save all targets and predictions in buffer. For large datasets this may lead to large memory footprint.\n",
      "  warnings.warn(*args, **kwargs)\n",
      "/home/ki/.local/lib/python3.9/site-packages/torchmetrics/utilities/prints.py:36: UserWarning: Metric `PrecisionRecallCurve` will save all targets and predictions in buffer. For large datasets this may lead to large memory footprint.\n",
      "  warnings.warn(*args, **kwargs)\n"
     ]
    },
    {
     "data": {
      "text/plain": "  0%|          | 0/435 [00:00<?, ?it/s]",
      "application/vnd.jupyter.widget-view+json": {
       "version_major": 2,
       "version_minor": 0,
       "model_id": "e3f6888dc43c40c2823c01111c2c2370"
      }
     },
     "metadata": {},
     "output_type": "display_data"
    },
    {
     "name": "stderr",
     "output_type": "stream",
     "text": [
      "/home/ki/.local/share/anaconda3/envs/myenv/lib/python3.9/site-packages/torch/utils/data/dataloader.py:478: UserWarning: This DataLoader will create 20 worker processes in total. Our suggested max number of worker in current system is 12, which is smaller than what this DataLoader is going to create. Please be aware that excessive worker creation might get DataLoader running slow or even freeze, lower the worker number to avoid potential slowness/freeze if necessary.\n",
      "  warnings.warn(_create_warning_msg(\n"
     ]
    },
    {
     "name": "stdout",
     "output_type": "stream",
     "text": [
      "{'AUROC': 0.9881040453910828, 'AUPR-IN': 0.9970607161521912, 'AUPR-OUT': 0.9618299603462219, 'ACC95TPR': 0.9485801458358765, 'FPR95TPR': 0.05790000036358833}\n"
     ]
    }
   ],
   "source": [
    "\n",
    "model = WideResNet.from_pretrained(\"oe-cifar10-tune\", num_classes=10).eval().cuda()\n",
    "method = NegativeEnergy(model)\n",
    "metrics = OODMetrics()\n",
    "\n",
    "with torch.no_grad():\n",
    "    for batch in tqdm(test_loader):\n",
    "        x, y = batch\n",
    "        x = x.cuda()\n",
    "        y = y.cuda()\n",
    "\n",
    "        metrics.update(method.predict(x), y)\n",
    "\n",
    "print(metrics.compute())\n",
    "metrics.reset()"
   ],
   "metadata": {
    "collapsed": false,
    "pycharm": {
     "name": "#%%\n"
    }
   }
  },
  {
   "cell_type": "code",
   "execution_count": 12,
   "outputs": [
    {
     "data": {
      "text/plain": "<Figure size 504x504 with 4 Axes>",
      "image/png": "[encoded data removed]"
     },
     "metadata": {
      "needs_background": "light"
     },
     "output_type": "display_data"
    }
   ],
   "source": [
    "import matplotlib.pyplot as plt\n",
    "from torchvision.transforms.functional import to_pil_image\n",
    "trans = tvt.Compose([\n",
    "    ToRGB(),\n",
    "    tvt.Resize(32),\n",
    "    tvt.CenterCrop(32),\n",
    "    tvt.ToTensor()\n",
    "    ])\n",
    "\n",
    "dataset_1 = CIFAR10(root=\"data\", train=False, transform=trans)\n",
    "dataset_2 = Textures(root=\"data\", download=True, transform=trans)\n",
    "dataset_3 = LSUNCrop(root=\"data\", download=True, transform=trans)\n",
    "dataset_4 = LSUNResize(root=\"data\", download=True, transform=trans)\n",
    "dataset_5 = TinyImageNetResize(root=\"data\", download=True, transform=trans)\n",
    "\n",
    "a = dataset_5[4][0]\n",
    "b = dataset_2[0][0]\n",
    "c = dataset_3[2][0]\n",
    "d = dataset_4[7][0]\n",
    "\n",
    "fix, ax = plt.subplots(2,2, figsize=(7,7))\n",
    "ax = ax.flatten()\n",
    "\n",
    "ax[0].imshow(to_pil_image(a))\n",
    "ax[0].axes.yaxis.set_ticklabels([])\n",
    "ax[0].axes.xaxis.set_ticklabels([])\n",
    "ax[0].set_title(\"TinyImageNet Resize\")\n",
    "\n",
    "ax[1].imshow(to_pil_image(b))\n",
    "ax[1].axes.yaxis.set_ticklabels([])\n",
    "ax[1].axes.xaxis.set_ticklabels([])\n",
    "ax[1].set_title(\"Textures\")\n",
    "\n",
    "ax[2].imshow(to_pil_image(c))\n",
    "ax[2].axes.yaxis.set_ticklabels([])\n",
    "ax[2].axes.xaxis.set_ticklabels([])\n",
    "ax[2].set_title(\"LSUN Crop\")\n",
    "\n",
    "ax[3].imshow(to_pil_image(d))\n",
    "ax[3].axes.yaxis.set_ticklabels([])\n",
    "ax[3].axes.xaxis.set_ticklabels([])\n",
    "ax[3].set_title(\"LSUN Resize\")\n",
    "\n",
    "# # disabling xticks by Setting xticks to an empty list\n",
    "# plt.xticks([])\n",
    "#\n",
    "# # disabling yticks by setting yticks to an empty list\n",
    "# plt.yticks([])\n",
    "\n",
    "plt.tight_layout()\n",
    "plt.savefig(\"/home/ki/examples-small.png\", dpi=300)"
   ],
   "metadata": {
    "collapsed": false,
    "pycharm": {
     "name": "#%%\n"
    }
   }
  },
  {
   "cell_type": "code",
   "execution_count": null,
   "outputs": [],
   "source": [],
   "metadata": {
    "collapsed": false,
    "pycharm": {
     "name": "#%%\n"
    }
   }
  }
 ],
 "metadata": {
  "kernelspec": {
   "name": "myenv",
   "language": "python",
   "display_name": "myenv"
  },
  "language_info": {
   "codemirror_mode": {
    "name": "ipython",
    "version": 2
   },
   "file_extension": ".py",
   "mimetype": "text/x-python",
   "name": "python",
   "nbconvert_exporter": "python",
   "pygments_lexer": "ipython2",
   "version": "2.7.6"
  }
 },
 "nbformat": 4,
 "nbformat_minor": 0
}
