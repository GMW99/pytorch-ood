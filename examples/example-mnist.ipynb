{
 "cells": [
  {
   "cell_type": "code",
   "execution_count": 17,
   "metadata": {
    "collapsed": true
   },
   "outputs": [],
   "source": [
    "import torch\n",
    "import torchvision.transforms as tvt\n",
    "from torch.nn import CrossEntropyLoss\n",
    "from torch.optim import Adam\n",
    "from torch.utils.data import ConcatDataset, DataLoader\n",
    "from torchmetrics import AUROC  # additional dependency\n",
    "from torchvision.datasets import MNIST, FashionMNIST, KMNIST\n",
    "\n",
    "from oodtk import NegativeEnergy, Softmax\n",
    "from oodtk.dataset.img import MNISTC, UniformNoise, GaussianNoise\n",
    "from oodtk.model import WideResNet\n",
    "from oodtk.utils import is_unknown, ToUnknown"
   ]
  },
  {
   "cell_type": "code",
   "execution_count": 18,
   "outputs": [],
   "source": [
    "torch.manual_seed(123)\n",
    "\n",
    "trans = tvt.Compose([tvt.Resize((32,32)), tvt.ToTensor()])\n",
    "\n",
    "# setup data\n",
    "dataset_train = MNIST(root=\"data\", train=True, download=True, transform=trans)\n",
    "train_loader = DataLoader(dataset_train, batch_size=128)"
   ],
   "metadata": {
    "collapsed": false,
    "pycharm": {
     "name": "#%%\n"
    }
   }
  },
  {
   "cell_type": "code",
   "execution_count": 19,
   "outputs": [],
   "source": [
    "model = WideResNet(num_classes=10, in_channels=1)\n",
    "opti = Adam(model.parameters())\n",
    "criterion = CrossEntropyLoss()\n",
    "model = model.cuda()"
   ],
   "metadata": {
    "collapsed": false,
    "pycharm": {
     "name": "#%% # setup model\n"
    }
   }
  },
  {
   "cell_type": "code",
   "execution_count": 20,
   "outputs": [],
   "source": [
    "model.train()\n",
    "\n",
    "# start training\n",
    "for epoch in range(10):\n",
    "    for n, batch in enumerate(train_loader):\n",
    "        x, y = batch\n",
    "        x = x.cuda()\n",
    "        y = y.cuda()\n",
    "\n",
    "        logits = model(x)\n",
    "        loss = criterion(logits, y)\n",
    "        opti.zero_grad()\n",
    "        loss.backward()\n",
    "        opti.step()\n"
   ],
   "metadata": {
    "collapsed": false,
    "pycharm": {
     "name": "#%%\n"
    }
   }
  },
  {
   "cell_type": "code",
   "execution_count": 24,
   "outputs": [],
   "source": [
    "# create some methods\n",
    "energy = NegativeEnergy(model).cuda()\n",
    "softmax = Softmax(model).cuda()"
   ],
   "metadata": {
    "collapsed": false,
    "pycharm": {
     "name": "#%%\n"
    }
   }
  },
  {
   "cell_type": "code",
   "execution_count": 26,
   "outputs": [
    {
     "name": "stdout",
     "output_type": "stream",
     "text": [
      "tensor(0.7762, device='cuda:0')\n",
      "tensor(0.7042, device='cuda:0')\n"
     ]
    }
   ],
   "source": [
    "dataset_in_test = MNIST(root=\"data\", train=False, transform=trans)\n",
    "dataset_out_test = MNISTC(root=\"data\", subset=\"all\", split=\"test\", download=True,\n",
    "                          transform=trans, target_transform=ToUnknown())\n",
    "dataset_test = dataset_in_test + dataset_out_test\n",
    "test_loader = DataLoader(dataset_test, batch_size=128)\n",
    "\n",
    "# evaluate\n",
    "auroc_energy = AUROC(num_classes=2)\n",
    "auroc_softmax = AUROC(num_classes=2)\n",
    "model.eval()\n",
    "\n",
    "with torch.no_grad():\n",
    "    for n, batch in enumerate(test_loader):\n",
    "        x, y = batch\n",
    "        x = x.cuda()\n",
    "        y = y.cuda()\n",
    "\n",
    "        auroc_energy.update(energy(x), is_unknown(y))\n",
    "        auroc_softmax.update(softmax(x), is_unknown(y))\n",
    "\n",
    "print(auroc_softmax.compute())\n",
    "print(auroc_energy.compute())"
   ],
   "metadata": {
    "collapsed": false,
    "pycharm": {
     "name": "#%%\n"
    }
   }
  },
  {
   "cell_type": "code",
   "execution_count": 27,
   "outputs": [
    {
     "name": "stdout",
     "output_type": "stream",
     "text": [
      "tensor(0.9550, device='cuda:0')\n",
      "tensor(0.9327, device='cuda:0')\n"
     ]
    }
   ],
   "source": [
    "dataset_in_test = MNIST(root=\"data\", train=False, transform=trans)\n",
    "dataset_out_test = FashionMNIST(root=\"data\", download=True, transform=trans, target_transform=ToUnknown())\n",
    "dataset_test = dataset_in_test + dataset_out_test\n",
    "test_loader = DataLoader(dataset_test, batch_size=128)\n",
    "\n",
    "# evaluate\n",
    "auroc_energy = AUROC(num_classes=2)\n",
    "auroc_softmax = AUROC(num_classes=2)\n",
    "model.eval()\n",
    "\n",
    "with torch.no_grad():\n",
    "    for n, batch in enumerate(test_loader):\n",
    "        x, y = batch\n",
    "        x = x.cuda()\n",
    "        y = y.cuda()\n",
    "\n",
    "        auroc_energy.update(energy(x), is_unknown(y))\n",
    "        auroc_softmax.update(softmax(x), is_unknown(y))\n",
    "\n",
    "print(auroc_softmax.compute())\n",
    "print(auroc_energy.compute())"
   ],
   "metadata": {
    "collapsed": false,
    "pycharm": {
     "name": "#%%\n"
    }
   }
  },
  {
   "cell_type": "code",
   "execution_count": 23,
   "outputs": [],
   "source": [
    "\n"
   ],
   "metadata": {
    "collapsed": false,
    "pycharm": {
     "name": "#%%\n"
    }
   }
  }
 ],
 "metadata": {
  "kernelspec": {
   "name": "myenv",
   "language": "python",
   "display_name": "myenv"
  },
  "language_info": {
   "codemirror_mode": {
    "name": "ipython",
    "version": 2
   },
   "file_extension": ".py",
   "mimetype": "text/x-python",
   "name": "python",
   "nbconvert_exporter": "python",
   "pygments_lexer": "ipython2",
   "version": "2.7.6"
  }
 },
 "nbformat": 4,
 "nbformat_minor": 0
}
