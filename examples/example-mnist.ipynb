{
 "cells": [
  {
   "cell_type": "code",
   "execution_count": 1,
   "metadata": {
    "collapsed": true
   },
   "outputs": [],
   "source": [
    "import torch\n",
    "import torchvision.transforms as tvt\n",
    "from torch.nn import CrossEntropyLoss\n",
    "from torch.optim import Adam\n",
    "from torch.utils.data import ConcatDataset, DataLoader\n",
    "from torchmetrics import AUROC  # additional dependency\n",
    "from torchvision.datasets import MNIST, FashionMNIST, KMNIST\n",
    "\n",
    "from pytorch_ood import NegativeEnergy, Softmax\n",
    "from pytorch_ood.dataset.img import MNISTC, UniformNoise, GaussianNoise\n",
    "from pytorch_ood.model import WideResNet\n",
    "from pytorch_ood.utils import is_unknown\n",
    "from pytorch_ood.transforms import ToUnknown"
   ]
  },
  {
   "cell_type": "code",
   "execution_count": 2,
   "outputs": [],
   "source": [
    "torch.manual_seed(123)\n",
    "\n",
    "trans = tvt.Compose([tvt.Resize((32,32)), tvt.ToTensor()])\n",
    "\n",
    "# setup data\n",
    "dataset_train = MNIST(root=\"data\", train=True, download=True, transform=trans)\n",
    "train_loader = DataLoader(dataset_train, batch_size=128)"
   ],
   "metadata": {
    "collapsed": false,
    "pycharm": {
     "name": "#%%\n"
    }
   }
  },
  {
   "cell_type": "code",
   "execution_count": 3,
   "outputs": [],
   "source": [
    "model = WideResNet(num_classes=10, in_channels=1)\n",
    "opti = Adam(model.parameters())\n",
    "criterion = CrossEntropyLoss()\n",
    "model = model.cuda()"
   ],
   "metadata": {
    "collapsed": false,
    "pycharm": {
     "name": "#%% # setup model\n"
    }
   }
  },
  {
   "cell_type": "code",
   "execution_count": 4,
   "outputs": [],
   "source": [
    "model.train()\n",
    "\n",
    "# start training\n",
    "for epoch in range(1):\n",
    "    for n, batch in enumerate(train_loader):\n",
    "        x, y = batch\n",
    "        x = x.cuda()\n",
    "        y = y.cuda()\n",
    "\n",
    "        logits = model(x)\n",
    "        loss = criterion(logits, y)\n",
    "        opti.zero_grad()\n",
    "        loss.backward()\n",
    "        opti.step()\n"
   ],
   "metadata": {
    "collapsed": false,
    "pycharm": {
     "name": "#%%\n"
    }
   }
  },
  {
   "cell_type": "code",
   "execution_count": 5,
   "outputs": [],
   "source": [
    "# create some methods\n",
    "energy = NegativeEnergy(model).cuda()\n",
    "softmax = Softmax(model).cuda()"
   ],
   "metadata": {
    "collapsed": false,
    "pycharm": {
     "name": "#%%\n"
    }
   }
  },
  {
   "cell_type": "code",
   "execution_count": 6,
   "outputs": [
    {
     "name": "stderr",
     "output_type": "stream",
     "text": [
      "/home/ki/.local/lib/python3.9/site-packages/torchmetrics/utilities/prints.py:36: UserWarning: Metric `AUROC` will save all targets and predictions in buffer. For large datasets this may lead to large memory footprint.\n",
      "  warnings.warn(*args, **kwargs)\n"
     ]
    },
    {
     "name": "stdout",
     "output_type": "stream",
     "text": [
      "tensor(0.5623, device='cuda:0')\n",
      "tensor(0.5471, device='cuda:0')\n"
     ]
    }
   ],
   "source": [
    "dataset_in_test = MNIST(root=\"data\", train=False, transform=trans)\n",
    "dataset_out_test = MNISTC(root=\"data\", subset=\"all\", split=\"test\", download=True,\n",
    "                          transform=trans, target_transform=ToUnknown())\n",
    "dataset_test = dataset_in_test + dataset_out_test\n",
    "test_loader = DataLoader(dataset_test, batch_size=128)\n",
    "\n",
    "# evaluate\n",
    "auroc_energy = AUROC(num_classes=2)\n",
    "auroc_softmax = AUROC(num_classes=2)\n",
    "model.eval()\n",
    "\n",
    "with torch.no_grad():\n",
    "    for n, batch in enumerate(test_loader):\n",
    "        x, y = batch\n",
    "        x = x.cuda()\n",
    "        y = y.cuda()\n",
    "\n",
    "        auroc_energy.update(energy(x), is_unknown(y))\n",
    "        auroc_softmax.update(softmax(x), is_unknown(y))\n",
    "\n",
    "print(auroc_softmax.compute())\n",
    "print(auroc_energy.compute())"
   ],
   "metadata": {
    "collapsed": false,
    "pycharm": {
     "name": "#%%\n"
    }
   }
  },
  {
   "cell_type": "code",
   "execution_count": 7,
   "outputs": [],
   "source": [
    "# dataset_in_test = MNIST(root=\"data\", train=False, transform=trans)\n",
    "# dataset_out_test = FashionMNIST(root=\"data\", download=True, transform=trans, target_transform=ToUnknown())\n",
    "# dataset_test = dataset_in_test + dataset_out_test\n",
    "# test_loader = DataLoader(dataset_test, batch_size=128)\n",
    "#\n",
    "# # evaluate\n",
    "# auroc_energy = AUROC(num_classes=2)\n",
    "# auroc_softmax = AUROC(num_classes=2)\n",
    "# model.eval()\n",
    "#\n",
    "# with torch.no_grad():\n",
    "#     for n, batch in enumerate(test_loader):\n",
    "#         x, y = batch\n",
    "#         x = x.cuda()\n",
    "#         y = y.cuda()\n",
    "#\n",
    "#         auroc_energy.update(energy(x), is_unknown(y))\n",
    "#         auroc_softmax.update(softmax(x), is_unknown(y))\n",
    "#\n",
    "# print(auroc_softmax.compute())\n",
    "# print(auroc_energy.compute())"
   ],
   "metadata": {
    "collapsed": false,
    "pycharm": {
     "name": "#%%\n"
    }
   }
  },
  {
   "cell_type": "code",
   "execution_count": 8,
   "outputs": [
    {
     "name": "stdout",
     "output_type": "stream",
     "text": [
      "10\n",
      "tensor(9)\n"
     ]
    },
    {
     "ename": "TypeError",
     "evalue": "only integer tensors of a single element can be converted to an index",
     "output_type": "error",
     "traceback": [
      "\u001B[0;31m---------------------------------------------------------------------------\u001B[0m",
      "\u001B[0;31mTypeError\u001B[0m                                 Traceback (most recent call last)",
      "Input \u001B[0;32mIn [8]\u001B[0m, in \u001B[0;36m<cell line: 3>\u001B[0;34m()\u001B[0m\n\u001B[1;32m      1\u001B[0m \u001B[38;5;28;01mfrom\u001B[39;00m \u001B[38;5;21;01mpytorch_ood\u001B[39;00m \u001B[38;5;28;01mimport\u001B[39;00m Mahalanobis\n\u001B[1;32m      2\u001B[0m maha \u001B[38;5;241m=\u001B[39m Mahalanobis(model)\u001B[38;5;241m.\u001B[39mcuda()\n\u001B[0;32m----> 3\u001B[0m \u001B[43mmaha\u001B[49m\u001B[38;5;241;43m.\u001B[39;49m\u001B[43mfit\u001B[49m\u001B[43m(\u001B[49m\u001B[43mtrain_loader\u001B[49m\u001B[43m)\u001B[49m\n",
      "File \u001B[0;32m~/projects/pytorch_ood/pytorch_ood/mahalanobis.py:80\u001B[0m, in \u001B[0;36mMahalanobis.fit\u001B[0;34m(self, data_loader)\u001B[0m\n\u001B[1;32m     77\u001B[0m \u001B[38;5;28mself\u001B[39m\u001B[38;5;241m.\u001B[39mmu \u001B[38;5;241m=\u001B[39m torch\u001B[38;5;241m.\u001B[39mzeros(size\u001B[38;5;241m=\u001B[39m(n_classes,))\u001B[38;5;241m.\u001B[39mto(dev)\n\u001B[1;32m     78\u001B[0m \u001B[38;5;28mself\u001B[39m\u001B[38;5;241m.\u001B[39mcov \u001B[38;5;241m=\u001B[39m torch\u001B[38;5;241m.\u001B[39mzeros(size\u001B[38;5;241m=\u001B[39mz\u001B[38;5;241m.\u001B[39mshape)\u001B[38;5;241m.\u001B[39mto(dev)\n\u001B[0;32m---> 80\u001B[0m \u001B[38;5;28;01mfor\u001B[39;00m clazz \u001B[38;5;129;01min\u001B[39;00m \u001B[38;5;28;43mrange\u001B[39;49m\u001B[43m(\u001B[49m\u001B[43mclasses\u001B[49m\u001B[43m)\u001B[49m:\n\u001B[1;32m     81\u001B[0m     idxs \u001B[38;5;241m=\u001B[39m y\u001B[38;5;241m.\u001B[39meq(clazz)\n\u001B[1;32m     82\u001B[0m     \u001B[38;5;28;01massert\u001B[39;00m idxs\u001B[38;5;241m.\u001B[39msum() \u001B[38;5;241m!=\u001B[39m \u001B[38;5;241m0\u001B[39m\n",
      "\u001B[0;31mTypeError\u001B[0m: only integer tensors of a single element can be converted to an index"
     ]
    }
   ],
   "source": [
    "from pytorch_ood import Mahalanobis\n",
    "maha = Mahalanobis(model).cuda()\n",
    "maha.fit(train_loader)"
   ],
   "metadata": {
    "collapsed": false,
    "pycharm": {
     "name": "#%%\n"
    }
   }
  },
  {
   "cell_type": "code",
   "execution_count": null,
   "outputs": [],
   "source": [],
   "metadata": {
    "collapsed": false,
    "pycharm": {
     "name": "#%%\n"
    }
   }
  }
 ],
 "metadata": {
  "kernelspec": {
   "name": "myenv",
   "language": "python",
   "display_name": "myenv"
  },
  "language_info": {
   "codemirror_mode": {
    "name": "ipython",
    "version": 2
   },
   "file_extension": ".py",
   "mimetype": "text/x-python",
   "name": "python",
   "nbconvert_exporter": "python",
   "pygments_lexer": "ipython2",
   "version": "2.7.6"
  }
 },
 "nbformat": 4,
 "nbformat_minor": 0
}
