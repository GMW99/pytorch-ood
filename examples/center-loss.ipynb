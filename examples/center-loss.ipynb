{
 "cells": [
  {
   "cell_type": "code",
   "execution_count": 1,
   "metadata": {
    "collapsed": true
   },
   "outputs": [],
   "source": [
    "import torch\n",
    "import torchvision.transforms as tvt\n",
    "from torch.optim import Adam\n",
    "\n",
    "from torch.utils.data import DataLoader, Subset\n",
    "from torchvision.datasets import CIFAR10\n",
    "from tqdm.notebook import tqdm\n",
    "from torchmetrics import Accuracy, AUROC\n",
    "from torch.optim.lr_scheduler import CosineAnnealingLR\n",
    "\n",
    "from pytorch_ood.utils import is_known, is_unknown, contains_known, contains_unknown\n",
    "from pytorch_ood.loss import ObjectosphereLoss\n",
    "from pytorch_ood.dataset.img import Textures, CIFAR10C, LSUNCrop, LSUNResize, TinyImageNetResize, TinyImageNetCrop\n",
    "from pytorch_ood.dataset.img import TinyImages300k\n",
    "from pytorch_ood.model import WideResNet\n",
    "from pytorch_ood.transforms import ToRGB, ToUnknown\n",
    "from pytorch_ood.metrics import OODMetrics"
   ]
  },
  {
   "cell_type": "code",
   "execution_count": 2,
   "outputs": [
    {
     "name": "stdout",
     "output_type": "stream",
     "text": [
      "Files already downloaded and verified\n"
     ]
    }
   ],
   "source": [
    "torch.manual_seed(123)\n",
    "\n",
    "mean = [x / 255 for x in [125.3, 123.0, 113.9]]\n",
    "std = [x / 255 for x in [63.0, 62.1, 66.7]]\n",
    "\n",
    "trans = tvt.Compose([ToRGB(), tvt.Resize((32,32)), tvt.ToTensor(), tvt.Normalize(mean, std)])\n",
    "\n",
    "# setup data\n",
    "dataset_in_train = CIFAR10(root=\"data\", train=True, download=True, transform=trans)\n",
    "dataset_in_test = CIFAR10(root=\"data\", train=False, transform=trans)\n",
    "\n",
    "train_loader = DataLoader(dataset_in_train, batch_size=128, shuffle=True)\n"
   ],
   "metadata": {
    "collapsed": false,
    "pycharm": {
     "name": "#%%\n"
    }
   }
  },
  {
   "cell_type": "code",
   "execution_count": 3,
   "outputs": [],
   "source": [
    "from pytorch_ood.loss import CenterLoss, CrossEntropy\n",
    "from torch import nn\n",
    "model = WideResNet.from_pretrained(\"imagenet32\", num_classes=1000)\n",
    "model.fc = nn.Linear(128, 10)\n",
    "model.cuda()\n",
    "classifier = nn.Linear(10, 10)\n",
    "classifier.cuda()\n",
    "\n",
    "opti = Adam(params=[*model.parameters(), *classifier.parameters()], lr=0.001)\n",
    "crit = CenterLoss(n_classes=10, n_embedding=10).cuda()\n",
    "crit2 = CrossEntropy()\n",
    "\n",
    "scheduler = CosineAnnealingLR(opti, T_max=len(train_loader) * 10)\n",
    "model = model.cuda()"
   ],
   "metadata": {
    "collapsed": false,
    "pycharm": {
     "name": "#%%\n"
    }
   }
  },
  {
   "cell_type": "code",
   "execution_count": 4,
   "outputs": [
    {
     "data": {
      "text/plain": "  0%|          | 0/391 [00:00<?, ?it/s]",
      "application/vnd.jupyter.widget-view+json": {
       "version_major": 2,
       "version_minor": 0,
       "model_id": "091385dd48614c2fb53211989bf64b86"
      }
     },
     "metadata": {},
     "output_type": "display_data"
    },
    {
     "data": {
      "text/plain": "  0%|          | 0/391 [00:00<?, ?it/s]",
      "application/vnd.jupyter.widget-view+json": {
       "version_major": 2,
       "version_minor": 0,
       "model_id": "74b7f8bedc104a21b07f7643609ed786"
      }
     },
     "metadata": {},
     "output_type": "display_data"
    },
    {
     "data": {
      "text/plain": "  0%|          | 0/391 [00:00<?, ?it/s]",
      "application/vnd.jupyter.widget-view+json": {
       "version_major": 2,
       "version_minor": 0,
       "model_id": "8fa84dbc71674a9d8b6f573744743819"
      }
     },
     "metadata": {},
     "output_type": "display_data"
    },
    {
     "data": {
      "text/plain": "  0%|          | 0/391 [00:00<?, ?it/s]",
      "application/vnd.jupyter.widget-view+json": {
       "version_major": 2,
       "version_minor": 0,
       "model_id": "6916df549fa24a83a56c966888ec0f15"
      }
     },
     "metadata": {},
     "output_type": "display_data"
    },
    {
     "data": {
      "text/plain": "  0%|          | 0/391 [00:00<?, ?it/s]",
      "application/vnd.jupyter.widget-view+json": {
       "version_major": 2,
       "version_minor": 0,
       "model_id": "ca016bc7e47744ab81a3a4cc5ed58a88"
      }
     },
     "metadata": {},
     "output_type": "display_data"
    },
    {
     "data": {
      "text/plain": "  0%|          | 0/391 [00:00<?, ?it/s]",
      "application/vnd.jupyter.widget-view+json": {
       "version_major": 2,
       "version_minor": 0,
       "model_id": "92a978cb5d734f89adbfa5fc85fe2bc4"
      }
     },
     "metadata": {},
     "output_type": "display_data"
    },
    {
     "data": {
      "text/plain": "  0%|          | 0/391 [00:00<?, ?it/s]",
      "application/vnd.jupyter.widget-view+json": {
       "version_major": 2,
       "version_minor": 0,
       "model_id": "873a90f1a8394bb5b93fd5f1b97015c3"
      }
     },
     "metadata": {},
     "output_type": "display_data"
    },
    {
     "data": {
      "text/plain": "  0%|          | 0/391 [00:00<?, ?it/s]",
      "application/vnd.jupyter.widget-view+json": {
       "version_major": 2,
       "version_minor": 0,
       "model_id": "5a57148178d3492a9ddcfebb32eb9a41"
      }
     },
     "metadata": {},
     "output_type": "display_data"
    },
    {
     "data": {
      "text/plain": "  0%|          | 0/391 [00:00<?, ?it/s]",
      "application/vnd.jupyter.widget-view+json": {
       "version_major": 2,
       "version_minor": 0,
       "model_id": "d6dd9b91f0c84e54a5bf9b36b325e31d"
      }
     },
     "metadata": {},
     "output_type": "display_data"
    },
    {
     "data": {
      "text/plain": "  0%|          | 0/391 [00:00<?, ?it/s]",
      "application/vnd.jupyter.widget-view+json": {
       "version_major": 2,
       "version_minor": 0,
       "model_id": "c6184c515fc94101959d6e4c5b3e8224"
      }
     },
     "metadata": {},
     "output_type": "display_data"
    }
   ],
   "source": [
    "from torchmetrics import Accuracy\n",
    "from tqdm.notebook import tqdm\n",
    "\n",
    "acc = Accuracy(num_classes=10).cuda()\n",
    "\n",
    "for epoch in range(10):\n",
    "    bar = tqdm(train_loader)\n",
    "    for batch in bar:\n",
    "        x, y = batch\n",
    "        x, y = x.cuda(), y.cuda()\n",
    "        z = model(x)\n",
    "\n",
    "        d = crit.centers(z)\n",
    "        loss1 = crit(d, y)\n",
    "        loss2 = crit2(classifier(z), y)\n",
    "        loss = loss1 + loss2\n",
    "        #\n",
    "        # with torch.no_grad():\n",
    "        #     y_hat = crit.centers.predict(z)\n",
    "\n",
    "        opti.zero_grad()\n",
    "        loss.backward()\n",
    "        opti.step()\n",
    "        scheduler.step()\n",
    "\n",
    "        acc.update(-d,y)\n",
    "        # auroc.update(ObjectosphereLoss.score(z),is_unknown(y))\n",
    "        bar.set_postfix({\"loss\": loss.item(), \"acc\": acc.compute().item()})\n",
    "\n",
    "    acc.reset()"
   ],
   "metadata": {
    "collapsed": false,
    "pycharm": {
     "name": "#%%\n"
    }
   }
  },
  {
   "cell_type": "code",
   "execution_count": 4,
   "outputs": [],
   "source": [],
   "metadata": {
    "collapsed": false,
    "pycharm": {
     "name": "#%%\n"
    }
   }
  }
 ],
 "metadata": {
  "kernelspec": {
   "name": "myenv2",
   "language": "python",
   "display_name": "myenv2"
  },
  "language_info": {
   "codemirror_mode": {
    "name": "ipython",
    "version": 2
   },
   "file_extension": ".py",
   "mimetype": "text/x-python",
   "name": "python",
   "nbconvert_exporter": "python",
   "pygments_lexer": "ipython2",
   "version": "2.7.6"
  }
 },
 "nbformat": 4,
 "nbformat_minor": 0
}
